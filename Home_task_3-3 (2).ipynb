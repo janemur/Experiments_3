{
 "cells": [
  {
   "cell_type": "code",
   "execution_count": 178,
   "metadata": {},
   "outputs": [],
   "source": [
    "import pandas as pd\n",
    "import matplotlib.pyplot as plt\n",
    "import numpy as np\n",
    "import seaborn as sns\n",
    "import datetime\n",
    "import random\n",
    "from statsmodels.stats.power import tt_ind_solve_power\n",
    "\n",
    "def date_converter(x):\n",
    "    return datetime.datetime.strptime(x,'%Y-%m-%d')"
   ]
  },
  {
   "cell_type": "markdown",
   "metadata": {},
   "source": [
    "### Задание 3\n",
    "**Срок сдачи: 07 апреля 18:00**\n",
    "\n",
    "В этом задание вы будете работать с выручкой - метрикой с достаточно высокой дисперсией и соответсвенно низкой чувствительностью к изменениям.\n",
    "\n",
    "Вам предстоит разработать подход по повышению чувствительности этой метрики.\n",
    "От успеха данной инициативы зависит то, как быстро мы сможем проверять продуктовые гипотезы."
   ]
  },
  {
   "cell_type": "markdown",
   "metadata": {},
   "source": [
    "#### Для планирования эксперимента изучите данные и метрики 2 балла:\n",
    "\n",
    "- Загрузите файл и изучите данные;\n",
    "- Изучите основные статистики метрики: среднее, стандартное отклонение;\n",
    "- Изучите то, как эти статистики изменяются внутри срезов: user_segment, region, category\n",
    "\n",
    "#### Предскажите минимально детектируемый эффект (MDE) 2 балла:\n",
    "\n",
    "- Для размеров тестовых групп 10,25,50% и длительностей 30, 60, 90 дней предскажите минимально детектируемый эффект;\n",
    "\n",
    "\n",
    "#### CUPED 6 баллов\n",
    "Разработайте подход по снижению дисперсии на основе методики CUPED:\n",
    "\n",
    "- Рассчитайте CUPED метрику на основе данных за периода в 30 дней перед предполагаемым периодом сбора основной выборки и опишите как изменился MDE для выборок 50/50%, собранных за 30 дней (2 бала). \n",
    "- Проверьте насколько данный подход подвержен сезональности. Как меняется MDE, если применять данный подход в разные периоды (2 бала). \n",
    "- Оптимизируйте подход варьируя количество дней до теста, которые вы будете для расчёта CUPED метрики. Какое максимальное снижение MDE вы смогли достичь (2 бала).\n",
    "\n",
    "\n",
    "\n",
    "#### * Стратификация 4 балла (задание для получения дополнительных баллов)\n",
    "Разработайте подход по снижению дисперсии на основе методики стратификации выборок:\n",
    "\n",
    "- Стратифицируйте выборки внутри срезов user_segment, region, category\n",
    "- Рассчитайте стратифицированные среднее,стандартное отклонение для этих выборок и MDE для теста 50/50% длительностью 30 дней.\n",
    "- В каких срезах достигается наибольшее снижение MDE?\n",
    "\n"
   ]
  },
  {
   "cell_type": "markdown",
   "metadata": {},
   "source": [
    "#### Описание данныx\n",
    "\n",
    "event_date - дата \n",
    "\n",
    "user_id - идентификатор пользователя\n",
    "\n",
    "user_segment - сегмент пользователей\n",
    "\n",
    "region - регион\n",
    "\n",
    "category - категория авито\n",
    "\n",
    "revenue_amount - сумма покупок\n"
   ]
  },
  {
   "cell_type": "markdown",
   "metadata": {},
   "source": [
    "##### 1. Для планирования эксперимента изучите данные и метрики:"
   ]
  },
  {
   "cell_type": "code",
   "execution_count": 179,
   "metadata": {},
   "outputs": [],
   "source": [
    "df = pd.read_csv('user_amount_var_reduction.csv')\n",
    "df['event_date']=df.event_date.apply(date_converter)"
   ]
  },
  {
   "cell_type": "code",
   "execution_count": 180,
   "metadata": {},
   "outputs": [
    {
     "data": {
      "text/plain": [
       "Timestamp('2019-12-09 00:00:00')"
      ]
     },
     "execution_count": 180,
     "metadata": {},
     "output_type": "execute_result"
    }
   ],
   "source": [
    "df.head()\n",
    "df['event_date'].max()"
   ]
  },
  {
   "cell_type": "code",
   "execution_count": 181,
   "metadata": {},
   "outputs": [
    {
     "data": {
      "text/plain": [
       "400.9046571917269"
      ]
     },
     "execution_count": 181,
     "metadata": {},
     "output_type": "execute_result"
    }
   ],
   "source": [
    "# рассчет средней выручки\n",
    "df.revenue_amount.mean()"
   ]
  },
  {
   "cell_type": "code",
   "execution_count": 182,
   "metadata": {},
   "outputs": [
    {
     "data": {
      "text/plain": [
       "960.2217414899865"
      ]
     },
     "execution_count": 182,
     "metadata": {},
     "output_type": "execute_result"
    }
   ],
   "source": [
    "# рассчет стандартного отклонения для выручки\n",
    "df.revenue_amount.std()"
   ]
  },
  {
   "cell_type": "code",
   "execution_count": 183,
   "metadata": {},
   "outputs": [
    {
     "data": {
      "text/plain": [
       "user_segment\n",
       "853431062533847667     1094.330305\n",
       "2376074197230840906     401.615956\n",
       "4626944681007198896     207.760172\n",
       "Name: revenue_amount, dtype: float64"
      ]
     },
     "execution_count": 183,
     "metadata": {},
     "output_type": "execute_result"
    }
   ],
   "source": [
    "df.groupby(['user_segment'])['revenue_amount'].mean()\n",
    "# сегменты заметно отличаются по средней выручке"
   ]
  },
  {
   "cell_type": "code",
   "execution_count": 184,
   "metadata": {},
   "outputs": [
    {
     "data": {
      "text/plain": [
       "user_segment\n",
       "853431062533847667     2392.330098\n",
       "2376074197230840906     571.446013\n",
       "4626944681007198896     285.545686\n",
       "Name: revenue_amount, dtype: float64"
      ]
     },
     "execution_count": 184,
     "metadata": {},
     "output_type": "execute_result"
    }
   ],
   "source": [
    "df.groupby(['user_segment'])['revenue_amount'].std()\n",
    "# также сегменты сильно различаются по стандартному отклонению"
   ]
  },
  {
   "cell_type": "code",
   "execution_count": 185,
   "metadata": {},
   "outputs": [
    {
     "data": {
      "text/plain": [
       "region\n",
       "1706841507230707778    182.157253\n",
       "6371282152022805074    187.891898\n",
       "9173615405044165275    189.498536\n",
       "8666105090637809898    192.322772\n",
       "8443241763018219192    192.534498\n",
       "                          ...    \n",
       "8867014108346120905    445.188098\n",
       "1611023233668261710    529.945146\n",
       "5780543780372929118    536.875280\n",
       "4848067518890897757    644.019141\n",
       "1481836092404435976    709.130762\n",
       "Name: revenue_amount, Length: 84, dtype: float64"
      ]
     },
     "execution_count": 185,
     "metadata": {},
     "output_type": "execute_result"
    }
   ],
   "source": [
    "df.groupby(['region'])['revenue_amount'].mean().sort_values()"
   ]
  },
  {
   "cell_type": "code",
   "execution_count": 186,
   "metadata": {},
   "outputs": [
    {
     "data": {
      "text/plain": [
       "region\n",
       "8666105090637809898     222.724661\n",
       "8443241763018219192     227.287387\n",
       "9173615405044165275     230.607352\n",
       "928013360687874809      239.776537\n",
       "6371282152022805074     256.364711\n",
       "                          ...     \n",
       "1611023233668261710    1069.926166\n",
       "2751451541457411742    1241.044595\n",
       "5780543780372929118    1324.789564\n",
       "4848067518890897757    1407.455008\n",
       "1481836092404435976    1819.635279\n",
       "Name: revenue_amount, Length: 84, dtype: float64"
      ]
     },
     "execution_count": 186,
     "metadata": {},
     "output_type": "execute_result"
    }
   ],
   "source": [
    "df.groupby(['region'])['revenue_amount'].std().sort_values()"
   ]
  },
  {
   "cell_type": "code",
   "execution_count": 187,
   "metadata": {},
   "outputs": [
    {
     "data": {
      "text/plain": [
       "category\n",
       "4394253463123676325     136.595029\n",
       "3619272498251215842     142.088606\n",
       "5387097547938806535     149.053532\n",
       "7247164925237372155     155.169288\n",
       "6847326422676498281     167.567493\n",
       "2965866302161963961     196.501761\n",
       "3429514168013826643     200.418644\n",
       "4658595883120885993     215.218327\n",
       "6864443610550051939     233.014721\n",
       "1472231361867825698     258.353200\n",
       "282115902545472456      260.778575\n",
       "320230973495659885      286.013254\n",
       "1560592244484430230     313.285665\n",
       "5736208844128861898     321.823084\n",
       "174490086998335078      325.149759\n",
       "57514010642945023       347.826167\n",
       "7204754148424990691     352.174948\n",
       "4409084324312788296     379.733922\n",
       "3358911609809004109     403.792946\n",
       "6549025562984299367     410.800302\n",
       "5983323600580891431     433.565037\n",
       "91460430793700892       441.861699\n",
       "5284347926600386297     455.255782\n",
       "3187769798308634693     467.654020\n",
       "1793067034829450750     497.431001\n",
       "6742557862815872936     503.182713\n",
       "264558924403680107      509.373364\n",
       "4546178272531746227     510.431362\n",
       "5858189596811644833     527.746677\n",
       "7948270325129383019     792.677807\n",
       "2923341857645916506     806.675364\n",
       "2343719193625129042     943.989905\n",
       "7164285449278522823    1955.979431\n",
       "Name: revenue_amount, dtype: float64"
      ]
     },
     "execution_count": 187,
     "metadata": {},
     "output_type": "execute_result"
    }
   ],
   "source": [
    "df.groupby(['category'])['revenue_amount'].mean().sort_values()"
   ]
  },
  {
   "cell_type": "code",
   "execution_count": 188,
   "metadata": {},
   "outputs": [
    {
     "data": {
      "text/plain": [
       "category\n",
       "3619272498251215842     172.984799\n",
       "5387097547938806535     196.446707\n",
       "4658595883120885993     279.414560\n",
       "3429514168013826643     281.092885\n",
       "7247164925237372155     285.421869\n",
       "4394253463123676325     300.843418\n",
       "6847326422676498281     311.475321\n",
       "2965866302161963961     350.682200\n",
       "282115902545472456      354.734991\n",
       "320230973495659885      414.997017\n",
       "1560592244484430230     464.354426\n",
       "6864443610550051939     471.848055\n",
       "7204754148424990691     511.821260\n",
       "5284347926600386297     534.420842\n",
       "5983323600580891431     535.078480\n",
       "1472231361867825698     594.984151\n",
       "57514010642945023       605.864274\n",
       "5736208844128861898     625.686617\n",
       "91460430793700892       651.938097\n",
       "5858189596811644833     699.154653\n",
       "4546178272531746227     717.762308\n",
       "264558924403680107      747.222091\n",
       "174490086998335078      764.813512\n",
       "6742557862815872936     778.842570\n",
       "3187769798308634693     790.312625\n",
       "3358911609809004109     791.225418\n",
       "4409084324312788296     889.850240\n",
       "1793067034829450750    1073.795206\n",
       "7948270325129383019    1352.172272\n",
       "2923341857645916506    1613.975843\n",
       "6549025562984299367    1899.114650\n",
       "2343719193625129042    2471.247604\n",
       "7164285449278522823    3164.815179\n",
       "Name: revenue_amount, dtype: float64"
      ]
     },
     "execution_count": 188,
     "metadata": {},
     "output_type": "execute_result"
    }
   ],
   "source": [
    "df.groupby(['category'])['revenue_amount'].std().sort_values()"
   ]
  },
  {
   "cell_type": "markdown",
   "metadata": {},
   "source": [
    "##### 2. Предскажите минимально детектируемый эффект (MDE):"
   ]
  },
  {
   "cell_type": "markdown",
   "metadata": {},
   "source": [
    "Для рассчетов 9-ти комбинаций (Для размеров тестовых групп 10,25,50% и длительностей 30, 60, 90 дней) с помощью кода ниже , заеняя параметры delta, share и result effect) получены MDE:\n",
    "\n",
    "Для тестовой группы 10% и длительности теста 30 дней: 9%  \n",
    "Для тестовой группы 10% и длительности теста 60 дней: 8.5%  \n",
    "Для тестовой группы 10% и длительности теста 90 дней: 9.5%  \n",
    " \n",
    "Для тестовой группы 25% и длительности теста 30 дней: 6.1%  \n",
    "Для тестовой группы 25% и длительности теста 60 дней: 5.5%  \n",
    "Для тестовой группы 25% и длительности теста 90 дней: 5.4%  \n",
    "\n",
    "Для тестовой группы 50% и длительности теста 30 дней: 4.7%  \n",
    "Для тестовой группы 50% и длительности теста 60 дней: 4.5%  \n",
    "Для тестовой группы 50% и длительности теста 90 дней: 4.5%  "
   ]
  },
  {
   "cell_type": "code",
   "execution_count": 189,
   "metadata": {},
   "outputs": [],
   "source": [
    "def choose_date(df, start_date, delta, share): \n",
    "    tmp = df[(df.event_date>=start_date)&(df.event_date<=start_date+datetime.timedelta(days=delta))]\n",
    "    tmp=tmp.groupby(['user_id']).sum().reset_index()\n",
    "    x = tmp[(tmp.user_id)%int(1/share)==1].reset_index()\n",
    "    return x\n"
   ]
  },
  {
   "cell_type": "code",
   "execution_count": 258,
   "metadata": {},
   "outputs": [
    {
     "name": "stdout",
     "output_type": "stream",
     "text": [
      "1.029721162117055\n"
     ]
    }
   ],
   "source": [
    "# Эксперимент будем проводить на всей выборке.\n",
    "import datetime\n",
    "\n",
    "x1 = choose_date(df, datetime.datetime(2019, 7, 19, 0, 0), 30 ,0.5) #получаем необходимую подвыборку\n",
    "\n",
    "from statsmodels.stats.power import tt_ind_solve_power\n",
    " \n",
    "mean = x1.revenue_amount.mean()\n",
    "std = x1.revenue_amount.std()\n",
    " \n",
    "alpha = 0.05\n",
    "power = 0.8\n",
    "result_effect = 0.046 # целевой размер относительного отклоенения исходной метрики\n",
    "effect_size = (mean /std) * result_effect\n",
    " \n",
    "    \n",
    "sample_vol = tt_ind_solve_power(effect_size=effect_size, alpha=alpha, power=power, nobs1=None, ratio=1, alternative = 'two-sided')    \n",
    "print(sample_vol/x1.shape[0])# получаем множитель того, во сколько раз необходимо изменить размер выборки\n"
   ]
  },
  {
   "cell_type": "markdown",
   "metadata": {},
   "source": [
    "##### 3. CUPED"
   ]
  },
  {
   "cell_type": "markdown",
   "metadata": {},
   "source": [
    "1. Рассчитайте CUPED метрику на основе данных за периода в 30 дней перед предполагаемым периодом сбора основной выборки и опишите как изменился MDE для выборок 50/50%, собранных за 30 дней (2 бала)."
   ]
  },
  {
   "cell_type": "markdown",
   "metadata": {},
   "source": [
    "Для рассчета метрики возьмем данные за первые 30 дней из датасета, добавим новый столбец pre_revenue к нашему df"
   ]
  },
  {
   "cell_type": "code",
   "execution_count": 259,
   "metadata": {},
   "outputs": [
    {
     "data": {
      "text/plain": [
       "Timestamp('2019-06-18 00:00:00')"
      ]
     },
     "execution_count": 259,
     "metadata": {},
     "output_type": "execute_result"
    }
   ],
   "source": [
    "df['event_date'].min()"
   ]
  },
  {
   "cell_type": "code",
   "execution_count": 260,
   "metadata": {},
   "outputs": [],
   "source": [
    "pre_df = df[df['event_date'] <= '2019-07-18']\n",
    "pre_df_avg = pre_df.groupby(['user_id'])['revenue_amount'].mean()"
   ]
  },
  {
   "cell_type": "code",
   "execution_count": 353,
   "metadata": {},
   "outputs": [],
   "source": [
    "new_df = df[(df['event_date'] > '2019-07-18') & (df['event_date'] <= '2019-08-18')]\n",
    "new_df_avg = new_df.groupby(['user_id'])['revenue_amount'].mean()"
   ]
  },
  {
   "cell_type": "code",
   "execution_count": 354,
   "metadata": {},
   "outputs": [],
   "source": [
    "n_df = pd.merge(new_df_avg,pre_df_avg,on='user_id', how='left') "
   ]
  },
  {
   "cell_type": "code",
   "execution_count": 355,
   "metadata": {},
   "outputs": [],
   "source": [
    "n_df['revenue_amount_y'] = n_df['revenue_amount_y'].fillna(0)"
   ]
  },
  {
   "cell_type": "code",
   "execution_count": 356,
   "metadata": {},
   "outputs": [
    {
     "data": {
      "text/html": [
       "<div>\n",
       "<style scoped>\n",
       "    .dataframe tbody tr th:only-of-type {\n",
       "        vertical-align: middle;\n",
       "    }\n",
       "\n",
       "    .dataframe tbody tr th {\n",
       "        vertical-align: top;\n",
       "    }\n",
       "\n",
       "    .dataframe thead th {\n",
       "        text-align: right;\n",
       "    }\n",
       "</style>\n",
       "<table border=\"1\" class=\"dataframe\">\n",
       "  <thead>\n",
       "    <tr style=\"text-align: right;\">\n",
       "      <th></th>\n",
       "      <th>revenue_amount_x</th>\n",
       "      <th>revenue_amount_y</th>\n",
       "    </tr>\n",
       "    <tr>\n",
       "      <th>user_id</th>\n",
       "      <th></th>\n",
       "      <th></th>\n",
       "    </tr>\n",
       "  </thead>\n",
       "  <tbody>\n",
       "    <tr>\n",
       "      <th>702221222224</th>\n",
       "      <td>356.000000</td>\n",
       "      <td>0.0</td>\n",
       "    </tr>\n",
       "    <tr>\n",
       "      <th>1912219714366</th>\n",
       "      <td>100.333333</td>\n",
       "      <td>70.0</td>\n",
       "    </tr>\n",
       "    <tr>\n",
       "      <th>23708868092799</th>\n",
       "      <td>48.000000</td>\n",
       "      <td>55.0</td>\n",
       "    </tr>\n",
       "    <tr>\n",
       "      <th>39239811475386</th>\n",
       "      <td>195.000000</td>\n",
       "      <td>293.0</td>\n",
       "    </tr>\n",
       "    <tr>\n",
       "      <th>45305541518475</th>\n",
       "      <td>125.000000</td>\n",
       "      <td>0.0</td>\n",
       "    </tr>\n",
       "  </tbody>\n",
       "</table>\n",
       "</div>"
      ],
      "text/plain": [
       "                revenue_amount_x  revenue_amount_y\n",
       "user_id                                           \n",
       "702221222224          356.000000               0.0\n",
       "1912219714366         100.333333              70.0\n",
       "23708868092799         48.000000              55.0\n",
       "39239811475386        195.000000             293.0\n",
       "45305541518475        125.000000               0.0"
      ]
     },
     "execution_count": 356,
     "metadata": {},
     "output_type": "execute_result"
    }
   ],
   "source": [
    "# Получили df, в котором хранится информация для каждого пользователя по его среднему чеку за заказаз \n",
    "# в период с 18 июня 2019 года по 18 июля 2019 года\n",
    "n_df.head()"
   ]
  },
  {
   "cell_type": "code",
   "execution_count": 357,
   "metadata": {},
   "outputs": [],
   "source": [
    "# начнем рассчет  CUPID метрики\n",
    "# Считаем среднее предданных:\n",
    "n_df['pre_revenue_tg_average']=n_df.revenue_amount_y.mean() "
   ]
  },
  {
   "cell_type": "code",
   "execution_count": 358,
   "metadata": {},
   "outputs": [
    {
     "data": {
      "text/plain": [
       "0.7502038946462856"
      ]
     },
     "execution_count": 358,
     "metadata": {},
     "output_type": "execute_result"
    }
   ],
   "source": [
    "teta = np.cov(n_df.revenue_amount_x,n_df.revenue_amount_y, ddof=1)[1,0]/np.var(n_df.revenue_amount_y, ddof=1)\n",
    "teta"
   ]
  },
  {
   "cell_type": "code",
   "execution_count": 359,
   "metadata": {},
   "outputs": [],
   "source": [
    "corr = np.corrcoef(n_df.revenue_amount_x,n_df.revenue_amount_y)[1,0] "
   ]
  },
  {
   "cell_type": "code",
   "execution_count": 360,
   "metadata": {},
   "outputs": [],
   "source": [
    "# Считаем CUPID метрику\n",
    "n_df['cuped_revenue'] = n_df.revenue_amount_x - teta * (n_df.revenue_amount_y - n_df.pre_revenue_tg_average)"
   ]
  },
  {
   "cell_type": "code",
   "execution_count": 361,
   "metadata": {},
   "outputs": [
    {
     "data": {
      "text/html": [
       "<div>\n",
       "<style scoped>\n",
       "    .dataframe tbody tr th:only-of-type {\n",
       "        vertical-align: middle;\n",
       "    }\n",
       "\n",
       "    .dataframe tbody tr th {\n",
       "        vertical-align: top;\n",
       "    }\n",
       "\n",
       "    .dataframe thead th {\n",
       "        text-align: right;\n",
       "    }\n",
       "</style>\n",
       "<table border=\"1\" class=\"dataframe\">\n",
       "  <thead>\n",
       "    <tr style=\"text-align: right;\">\n",
       "      <th></th>\n",
       "      <th>revenue_amount_x</th>\n",
       "      <th>revenue_amount_y</th>\n",
       "      <th>pre_revenue_tg_average</th>\n",
       "      <th>cuped_revenue</th>\n",
       "    </tr>\n",
       "    <tr>\n",
       "      <th>user_id</th>\n",
       "      <th></th>\n",
       "      <th></th>\n",
       "      <th></th>\n",
       "      <th></th>\n",
       "    </tr>\n",
       "  </thead>\n",
       "  <tbody>\n",
       "    <tr>\n",
       "      <th>702221222224</th>\n",
       "      <td>356.000000</td>\n",
       "      <td>0.0</td>\n",
       "      <td>173.118706</td>\n",
       "      <td>485.874327</td>\n",
       "    </tr>\n",
       "    <tr>\n",
       "      <th>1912219714366</th>\n",
       "      <td>100.333333</td>\n",
       "      <td>70.0</td>\n",
       "      <td>173.118706</td>\n",
       "      <td>177.693388</td>\n",
       "    </tr>\n",
       "    <tr>\n",
       "      <th>23708868092799</th>\n",
       "      <td>48.000000</td>\n",
       "      <td>55.0</td>\n",
       "      <td>173.118706</td>\n",
       "      <td>136.613113</td>\n",
       "    </tr>\n",
       "    <tr>\n",
       "      <th>39239811475386</th>\n",
       "      <td>195.000000</td>\n",
       "      <td>293.0</td>\n",
       "      <td>173.118706</td>\n",
       "      <td>105.064586</td>\n",
       "    </tr>\n",
       "    <tr>\n",
       "      <th>45305541518475</th>\n",
       "      <td>125.000000</td>\n",
       "      <td>0.0</td>\n",
       "      <td>173.118706</td>\n",
       "      <td>254.874327</td>\n",
       "    </tr>\n",
       "  </tbody>\n",
       "</table>\n",
       "</div>"
      ],
      "text/plain": [
       "                revenue_amount_x  revenue_amount_y  pre_revenue_tg_average  \\\n",
       "user_id                                                                      \n",
       "702221222224          356.000000               0.0              173.118706   \n",
       "1912219714366         100.333333              70.0              173.118706   \n",
       "23708868092799         48.000000              55.0              173.118706   \n",
       "39239811475386        195.000000             293.0              173.118706   \n",
       "45305541518475        125.000000               0.0              173.118706   \n",
       "\n",
       "                cuped_revenue  \n",
       "user_id                        \n",
       "702221222224       485.874327  \n",
       "1912219714366      177.693388  \n",
       "23708868092799     136.613113  \n",
       "39239811475386     105.064586  \n",
       "45305541518475     254.874327  "
      ]
     },
     "execution_count": 361,
     "metadata": {},
     "output_type": "execute_result"
    }
   ],
   "source": [
    "n_df.head()"
   ]
  },
  {
   "cell_type": "code",
   "execution_count": 362,
   "metadata": {},
   "outputs": [],
   "source": [
    "# MDE\n",
    "def choose_date(df, start_date, delta, share): \n",
    "    #tmp = df[(df.event_date>=start_date)&(df.event_date<=start_date+datetime.timedelta(days=delta))]\n",
    "    tmp=n_df.groupby(['user_id']).sum().reset_index()\n",
    "    x = tmp[(tmp.user_id)%int(1/share)==1].reset_index()\n",
    "    return x"
   ]
  },
  {
   "cell_type": "code",
   "execution_count": 365,
   "metadata": {},
   "outputs": [
    {
     "name": "stdout",
     "output_type": "stream",
     "text": [
      "0.994803756567487\n"
     ]
    }
   ],
   "source": [
    "# Эксперимент будем проводить на всей выборке.\n",
    "# Удалось уменьшить MDE с 4.5% до 0.9%!\n",
    "import datetime\n",
    "\n",
    "x1 = choose_date(n_df, datetime.datetime(2019, 7, 19, 0, 0), 30 ,0.5) #получаем необходимую подвыборку\n",
    "\n",
    "from statsmodels.stats.power import tt_ind_solve_power\n",
    " \n",
    "mean = x1.cuped_revenue.mean()\n",
    "std = x1.cuped_revenue.std()\n",
    " \n",
    "alpha = 0.05\n",
    "power = 0.8\n",
    "result_effect = 0.009 # целевой размер относительного отклоенения исходной метрики\n",
    "effect_size = (mean /std) * result_effect\n",
    " \n",
    "    \n",
    "sample_vol = tt_ind_solve_power(effect_size=effect_size, alpha=alpha, power=power, nobs1=None, ratio=1, alternative = 'two-sided')    \n",
    "print(sample_vol/x1.shape[0])# получаем множитель того, во сколько раз необходимо изменить размер выборки\n"
   ]
  },
  {
   "cell_type": "markdown",
   "metadata": {},
   "source": [
    "2. Проверьте насколько данный подход подвержен сезональности. Как меняется MDE, если применять данный подход в разные периоды."
   ]
  },
  {
   "cell_type": "markdown",
   "metadata": {},
   "source": [
    "Рассмотрим MDE для CUPED метрики, если будем брать период за сентябрь и за новбрь. Основной дата теста будет в первом случае от сентбяря до конца года, во втором - от ноября до уонца года"
   ]
  },
  {
   "cell_type": "markdown",
   "metadata": {},
   "source": [
    "Сентябрь"
   ]
  },
  {
   "cell_type": "code",
   "execution_count": 368,
   "metadata": {},
   "outputs": [],
   "source": [
    "# Проделаем те же действия, что мы делали для первого месяца\n",
    "pre_sep_df = df[(df['event_date'] >= '2019-09-01') & (df['event_date'] <= '2019-09-30')]\n",
    "pre_sep_df_avg = pre_sep_df.groupby(['user_id'])['revenue_amount'].mean()"
   ]
  },
  {
   "cell_type": "code",
   "execution_count": 369,
   "metadata": {},
   "outputs": [],
   "source": [
    "new_sep_df = df[(df['event_date'] > '2019-09-30') & (df['event_date'] <= '2019-10-31')]\n",
    "new_sep_df_avg = new_sep_df.groupby(['user_id'])['revenue_amount'].mean()"
   ]
  },
  {
   "cell_type": "code",
   "execution_count": 370,
   "metadata": {},
   "outputs": [],
   "source": [
    "n_sep_df = pd.merge(new_sep_df_avg,pre_sep_df_avg,on='user_id', how='left')\n",
    "n_sep_df['pre_revenue_tg_average']=n_sep_df.revenue_amount_y.mean() "
   ]
  },
  {
   "cell_type": "code",
   "execution_count": 371,
   "metadata": {},
   "outputs": [],
   "source": [
    "n_sep_df['revenue_amount_y'] = n_sep_df['revenue_amount_y'].fillna(0)"
   ]
  },
  {
   "cell_type": "code",
   "execution_count": 372,
   "metadata": {},
   "outputs": [],
   "source": [
    "teta = np.cov(n_sep_df.revenue_amount_x,n_sep_df.revenue_amount_y, ddof=1)[1,0]/np.var(n_sep_df.revenue_amount_y, ddof=1)\n",
    "corr = np.corrcoef(n_sep_df.revenue_amount_x,n_sep_df.revenue_amount_y)[1,0] \n",
    "n_sep_df['cuped_revenue'] = n_sep_df.revenue_amount_x - teta * (n_sep_df.revenue_amount_y - n_sep_df.pre_revenue_tg_average)"
   ]
  },
  {
   "cell_type": "code",
   "execution_count": 373,
   "metadata": {},
   "outputs": [],
   "source": [
    "# MDE при данных для предпирода за сентябрь\n",
    "def choose_date_sep(df, start_date, delta, share): \n",
    "    #tmp = df[(df.event_date>=start_date)&(df.event_date<=start_date+datetime.timedelta(days=delta))]\n",
    "    tmp=n_sep_df.groupby(['user_id']).sum().reset_index()\n",
    "    x = tmp[(tmp.user_id)%int(1/share)==1].reset_index()\n",
    "    return x"
   ]
  },
  {
   "cell_type": "code",
   "execution_count": 385,
   "metadata": {},
   "outputs": [
    {
     "name": "stdout",
     "output_type": "stream",
     "text": [
      "1.0137549029806718\n"
     ]
    }
   ],
   "source": [
    "\n",
    "import datetime\n",
    "\n",
    "x1 = choose_date_sep(n_sep_df, datetime.datetime(2019, 10, 1, 0, 0), 30 ,0.5) #получаем необходимую подвыборку\n",
    "\n",
    "from statsmodels.stats.power import tt_ind_solve_power\n",
    " \n",
    "mean = x1.cuped_revenue.mean()\n",
    "std = x1.cuped_revenue.std()\n",
    " \n",
    "alpha = 0.05\n",
    "power = 0.8\n",
    "result_effect = 0.0057 # целевой размер относительного отклоенения исходной метрики\n",
    "effect_size = (mean /std) * result_effect\n",
    " \n",
    "    \n",
    "sample_vol = tt_ind_solve_power(effect_size=effect_size, alpha=alpha, power=power, nobs1=None, ratio=1, alternative = 'two-sided')    \n",
    "print(sample_vol/x1.shape[0])# получаем множитель того, во сколько раз необходимо изменить размер выборки\n",
    "\n",
    "# MDE умениьшился с 0.9% до 0.57%"
   ]
  },
  {
   "cell_type": "markdown",
   "metadata": {},
   "source": [
    "Ноябрь"
   ]
  },
  {
   "cell_type": "code",
   "execution_count": 386,
   "metadata": {},
   "outputs": [],
   "source": [
    "# Проделаем те же действия, что мы делали для первого месяца\n",
    "pre_nov_df = df[(df['event_date'] >= '2019-10-01') & (df['event_date'] <= '2019-10-31')]\n",
    "pre_nov_df_avg = pre_nov_df.groupby(['user_id'])['revenue_amount'].mean()"
   ]
  },
  {
   "cell_type": "code",
   "execution_count": 387,
   "metadata": {},
   "outputs": [],
   "source": [
    "new_nov_df = df[(df['event_date'] > '2019-11-30') & (df['event_date'] <= '2019-12-31')]\n",
    "new_nov_df_avg = new_nov_df.groupby(['user_id'])['revenue_amount'].mean()"
   ]
  },
  {
   "cell_type": "code",
   "execution_count": 389,
   "metadata": {},
   "outputs": [],
   "source": [
    "n_nov_df = pd.merge(new_nov_df_avg,pre_nov_df_avg,on='user_id', how='left')\n",
    "n_nov_df['pre_revenue_tg_average']=n_nov_df.revenue_amount_y.mean() \n",
    "n_nov_df['revenue_amount_y'] = n_nov_df['revenue_amount_y'].fillna(0)"
   ]
  },
  {
   "cell_type": "code",
   "execution_count": 390,
   "metadata": {},
   "outputs": [],
   "source": [
    "teta = np.cov(n_nov_df.revenue_amount_x,n_nov_df.revenue_amount_y, ddof=1)[1,0]/np.var(n_nov_df.revenue_amount_y, ddof=1)\n",
    "corr = np.corrcoef(n_nov_df.revenue_amount_x,n_nov_df.revenue_amount_y)[1,0] \n",
    "n_nov_df['cuped_revenue'] = n_nov_df.revenue_amount_x - teta * (n_nov_df.revenue_amount_y - n_nov_df.pre_revenue_tg_average)\n"
   ]
  },
  {
   "cell_type": "code",
   "execution_count": 391,
   "metadata": {},
   "outputs": [],
   "source": [
    "# MDE при данных для предпирода за сентябрь\n",
    "def choose_date_nov(df, start_date, delta, share): \n",
    "    #tmp = df[(df.event_date>=start_date)&(df.event_date<=start_date+datetime.timedelta(days=delta))]\n",
    "    tmp=n_nov_df.groupby(['user_id']).sum().reset_index()\n",
    "    x = tmp[(tmp.user_id)%int(1/share)==1].reset_index()\n",
    "    return x"
   ]
  },
  {
   "cell_type": "code",
   "execution_count": 409,
   "metadata": {},
   "outputs": [
    {
     "name": "stdout",
     "output_type": "stream",
     "text": [
      "0.9866054287467663\n"
     ]
    }
   ],
   "source": [
    "import datetime\n",
    "\n",
    "x1 = choose_date_nov(n_nov_df, datetime.datetime(2019, 10, 1, 0, 0), 30 ,0.5) #получаем необходимую подвыборку\n",
    "\n",
    "from statsmodels.stats.power import tt_ind_solve_power\n",
    " \n",
    "mean = x1.cuped_revenue.mean()\n",
    "std = x1.cuped_revenue.std()\n",
    " \n",
    "alpha = 0.05\n",
    "power = 0.8\n",
    "result_effect = 0.011 # целевой размер относительного отклоенения исходной метрики\n",
    "effect_size = (mean /std) * result_effect\n",
    " \n",
    "    \n",
    "sample_vol = tt_ind_solve_power(effect_size=effect_size, alpha=alpha, power=power, nobs1=None, ratio=1, alternative = 'two-sided')    \n",
    "print(sample_vol/x1.shape[0])# получаем множитель того, во сколько раз необходимо изменить размер выборки\n",
    "\n",
    "#Используя данные за ноябрь, получается засечь изменение в 1.1%"
   ]
  },
  {
   "cell_type": "markdown",
   "metadata": {},
   "source": [
    "3. Оптимизируйте подход варьируя количество дней до теста, которые вы будете для расчёта CUPED метрики. Какое максимальное снижение MDE вы смогли достичь.  \n",
    "\n",
    "Тут не совсем поняла задачу :("
   ]
  },
  {
   "cell_type": "markdown",
   "metadata": {},
   "source": [
    "###### 4. Стратификация "
   ]
  },
  {
   "cell_type": "markdown",
   "metadata": {},
   "source": [
    "Регион"
   ]
  },
  {
   "cell_type": "code",
   "execution_count": 333,
   "metadata": {},
   "outputs": [],
   "source": [
    "strata_p = df.groupby(['region']).count()/df.count()[0]\n",
    "data_test=df.join(strata_p, on='region', rsuffix='_probality')"
   ]
  },
  {
   "cell_type": "code",
   "execution_count": 336,
   "metadata": {},
   "outputs": [
    {
     "data": {
      "text/plain": [
       "400.9046571927835"
      ]
     },
     "execution_count": 336,
     "metadata": {},
     "output_type": "execute_result"
    }
   ],
   "source": [
    "(data_test.groupby(['region']).mean().revenue_amount*data_test.groupby(['region']).mean().revenue_amount_probality).sum()"
   ]
  },
  {
   "cell_type": "code",
   "execution_count": 339,
   "metadata": {},
   "outputs": [
    {
     "data": {
      "text/plain": [
       "0.32297647035389626"
      ]
     },
     "execution_count": 339,
     "metadata": {},
     "output_type": "execute_result"
    }
   ],
   "source": [
    "((data_test.groupby(['region']).var().revenue_amount*data_test.groupby(['region']).mean().revenue_amount_probality).sum()\n",
    " /df.count()[0])**0.5"
   ]
  },
  {
   "cell_type": "markdown",
   "metadata": {},
   "source": [
    "category"
   ]
  },
  {
   "cell_type": "code",
   "execution_count": 342,
   "metadata": {},
   "outputs": [],
   "source": [
    "strata_p = df.groupby(['category']).count()/df.count()[0]\n",
    "data_test=df.join(strata_p, on='category', rsuffix='_probality')"
   ]
  },
  {
   "cell_type": "code",
   "execution_count": null,
   "metadata": {},
   "outputs": [],
   "source": [
    "(data_test.groupby(['category']).mean().revenue_amount*data_test.groupby(['category']).mean().revenue_amount_probality).sum()\n"
   ]
  },
  {
   "cell_type": "code",
   "execution_count": 344,
   "metadata": {},
   "outputs": [
    {
     "data": {
      "text/plain": [
       "0.32066184266339565"
      ]
     },
     "execution_count": 344,
     "metadata": {},
     "output_type": "execute_result"
    }
   ],
   "source": [
    "((data_test.groupby(['category']).var().revenue_amount*data_test.groupby(['category']).mean().revenue_amount_probality).sum()\n",
    " /df.count()[0])**0.5"
   ]
  },
  {
   "cell_type": "markdown",
   "metadata": {},
   "source": [
    "User ID"
   ]
  },
  {
   "cell_type": "code",
   "execution_count": 345,
   "metadata": {},
   "outputs": [],
   "source": [
    "strata_p = df.groupby(['user_segment']).count()/df.count()[0]\n",
    "data_test=df.join(strata_p, on='user_segment', rsuffix='_probality')"
   ]
  },
  {
   "cell_type": "code",
   "execution_count": 346,
   "metadata": {},
   "outputs": [
    {
     "data": {
      "text/plain": [
       "400.9046571988347"
      ]
     },
     "execution_count": 346,
     "metadata": {},
     "output_type": "execute_result"
    }
   ],
   "source": [
    "(data_test.groupby(['user_segment']).mean().revenue_amount*data_test.groupby(['user_segment']).mean().revenue_amount_probality).sum()\n"
   ]
  },
  {
   "cell_type": "code",
   "execution_count": 347,
   "metadata": {},
   "outputs": [
    {
     "data": {
      "text/plain": [
       "0.3140204036179203"
      ]
     },
     "execution_count": 347,
     "metadata": {},
     "output_type": "execute_result"
    }
   ],
   "source": [
    "((data_test.groupby(['user_segment']).var().revenue_amount*data_test.groupby(['user_segment']).mean().revenue_amount_probality).sum()\n",
    " /df.count()[0])**0.5"
   ]
  },
  {
   "cell_type": "code",
   "execution_count": null,
   "metadata": {},
   "outputs": [],
   "source": []
  }
 ],
 "metadata": {
  "kernelspec": {
   "display_name": "Python 3",
   "language": "python",
   "name": "python3"
  },
  "language_info": {
   "codemirror_mode": {
    "name": "ipython",
    "version": 3
   },
   "file_extension": ".py",
   "mimetype": "text/x-python",
   "name": "python",
   "nbconvert_exporter": "python",
   "pygments_lexer": "ipython3",
   "version": "3.8.5"
  }
 },
 "nbformat": 4,
 "nbformat_minor": 4
}
