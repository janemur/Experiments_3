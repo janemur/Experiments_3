{
 "cells": [
  {
   "cell_type": "code",
   "execution_count": 5,
   "metadata": {},
   "outputs": [],
   "source": [
    "import pandas as pd\n",
    "import matplotlib.pyplot as plt\n",
    "import numpy as np\n",
    "import seaborn as sns\n",
    "import datetime\n",
    "import random\n",
    "from statsmodels.stats.power import tt_ind_solve_power\n",
    "\n",
    "def date_converter(x):\n",
    "    return datetime.datetime.strptime(x,'%Y-%m-%d')"
   ]
  },
  {
   "cell_type": "markdown",
   "metadata": {},
   "source": [
    "### Задание 3\n",
    "**Срок сдачи: 07 апреля 18:00**\n",
    "\n",
    "В этом задание вы будете работать с выручкой - метрикой с достаточно высокой дисперсией и соответсвенно низкой чувствительностью к изменениям.\n",
    "\n",
    "Вам предстоит разработать подход по повышению чувствительности этой метрики.\n",
    "От успеха данной инициативы зависит то, как быстро мы сможем проверять продуктовые гипотезы."
   ]
  },
  {
   "cell_type": "markdown",
   "metadata": {},
   "source": [
    "#### Для планирования эксперимента изучите данные и метрики 2 балла:\n",
    "\n",
    "- Загрузите файл и изучите данные;\n",
    "- Изучите основные статистики метрики: среднее, стандартное отклонение;\n",
    "- Изучите то, как эти статистики изменяются внутри срезов: user_segment, region, category\n",
    "\n",
    "#### Предскажите минимально детектируемый эффект (MDE) 2 балла:\n",
    "\n",
    "- Для размеров тестовых групп 10,25,50% и длительностей 30, 60, 90 дней предскажите минимально детектируемый эффект;\n",
    "\n",
    "\n",
    "#### CUPED 6 баллов\n",
    "Разработайте подход по снижению дисперсии на основе методики CUPED:\n",
    "\n",
    "- Рассчитайте CUPED метрику на основе данных за периода в 30 дней перед предполагаемым периодом сбора основной выборки и опишите как изменился MDE для выборок 50/50%, собранных за 30 дней (2 бала). \n",
    "- Проверьте насколько данный подход подвержен сезональности. Как меняется MDE, если применять данный подход в разные периоды (2 бала). \n",
    "- Оптимизируйте подход варьируя количество дней до теста, которые вы будете для расчёта CUPED метрики. Какое максимальное снижение MDE вы смогли достичь (2 бала).\n",
    "\n",
    "\n",
    "\n",
    "#### * Стратификация 4 балла (задание для получения дополнительных баллов)\n",
    "Разработайте подход по снижению дисперсии на основе методики стратификации выборок:\n",
    "\n",
    "- Стратифицируйте выборки внутри срезов user_segment, region, category\n",
    "- Рассчитайте стратифицированные среднее,стандартное отклонение для этих выборок и MDE для теста 50/50% длительностью 30 дней.\n",
    "- В каких срезах достигается наибольшее снижение MDE?\n",
    "\n"
   ]
  },
  {
   "cell_type": "markdown",
   "metadata": {},
   "source": [
    "#### Описание данныx\n",
    "\n",
    "event_date - дата \n",
    "\n",
    "user_id - идентификатор пользователя\n",
    "\n",
    "user_segment - сегмент пользователей\n",
    "\n",
    "region - регион\n",
    "\n",
    "category - категория авито\n",
    "\n",
    "revenue_amount - сумма покупок\n"
   ]
  },
  {
   "cell_type": "markdown",
   "metadata": {},
   "source": [
    "##### 1. Для планирования эксперимента изучите данные и метрики:"
   ]
  },
  {
   "cell_type": "code",
   "execution_count": 6,
   "metadata": {},
   "outputs": [],
   "source": [
    "df = pd.read_csv('user_amount_var_reduction.csv')\n",
    "df['event_date']=df.event_date.apply(date_converter)"
   ]
  },
  {
   "cell_type": "code",
   "execution_count": 7,
   "metadata": {},
   "outputs": [
    {
     "data": {
      "text/plain": [
       "Timestamp('2019-12-09 00:00:00')"
      ]
     },
     "execution_count": 7,
     "metadata": {},
     "output_type": "execute_result"
    }
   ],
   "source": [
    "df.head()"
   ]
  },
  {
   "cell_type": "code",
   "execution_count": 21,
   "metadata": {},
   "outputs": [
    {
     "data": {
      "text/plain": [
       "(Timestamp('2019-12-09 00:00:00'), Timestamp('2019-06-18 00:00:00'))"
      ]
     },
     "execution_count": 21,
     "metadata": {},
     "output_type": "execute_result"
    }
   ],
   "source": [
    "df['event_date'].max(), df['event_date'].min()# у нас данные за 2 месяца"
   ]
  },
  {
   "cell_type": "code",
   "execution_count": 8,
   "metadata": {},
   "outputs": [
    {
     "data": {
      "text/plain": [
       "400.9046571917269"
      ]
     },
     "execution_count": 8,
     "metadata": {},
     "output_type": "execute_result"
    }
   ],
   "source": [
    "# рассчет средней выручки\n",
    "df.revenue_amount.mean()"
   ]
  },
  {
   "cell_type": "code",
   "execution_count": 9,
   "metadata": {},
   "outputs": [
    {
     "data": {
      "text/plain": [
       "960.2217414899865"
      ]
     },
     "execution_count": 9,
     "metadata": {},
     "output_type": "execute_result"
    }
   ],
   "source": [
    "# рассчет стандартного отклонения для выручки\n",
    "df.revenue_amount.std()"
   ]
  },
  {
   "cell_type": "code",
   "execution_count": 10,
   "metadata": {},
   "outputs": [
    {
     "data": {
      "text/plain": [
       "user_segment\n",
       "853431062533847667     1094.330305\n",
       "2376074197230840906     401.615956\n",
       "4626944681007198896     207.760172\n",
       "Name: revenue_amount, dtype: float64"
      ]
     },
     "execution_count": 10,
     "metadata": {},
     "output_type": "execute_result"
    }
   ],
   "source": [
    "df.groupby(['user_segment'])['revenue_amount'].mean()\n",
    "# сегменты заметно отличаются по средней выручке"
   ]
  },
  {
   "cell_type": "code",
   "execution_count": 20,
   "metadata": {},
   "outputs": [
    {
     "data": {
      "text/plain": [
       "(array([1., 0., 0., 0., 0., 0., 0., 0., 0., 0., 0., 0., 0., 0., 0., 0., 0.,\n",
       "        0., 0., 0., 0., 1., 0., 0., 0., 0., 0., 0., 0., 0., 0., 0., 0., 0.,\n",
       "        0., 0., 0., 0., 0., 0., 0., 0., 0., 0., 0., 0., 0., 0., 0., 0., 0.,\n",
       "        0., 0., 0., 0., 0., 0., 0., 0., 0., 0., 0., 0., 0., 0., 0., 0., 0.,\n",
       "        0., 0., 0., 0., 0., 0., 0., 0., 0., 0., 0., 0., 0., 0., 0., 0., 0.,\n",
       "        0., 0., 0., 0., 0., 0., 0., 0., 0., 0., 0., 0., 0., 0., 1.]),\n",
       " array([ 207.76017233,  216.62587365,  225.49157498,  234.35727631,\n",
       "         243.22297764,  252.08867897,  260.9543803 ,  269.82008163,\n",
       "         278.68578296,  287.55148429,  296.41718562,  305.28288694,\n",
       "         314.14858827,  323.0142896 ,  331.87999093,  340.74569226,\n",
       "         349.61139359,  358.47709492,  367.34279625,  376.20849758,\n",
       "         385.07419891,  393.93990024,  402.80560156,  411.67130289,\n",
       "         420.53700422,  429.40270555,  438.26840688,  447.13410821,\n",
       "         455.99980954,  464.86551087,  473.7312122 ,  482.59691353,\n",
       "         491.46261485,  500.32831618,  509.19401751,  518.05971884,\n",
       "         526.92542017,  535.7911215 ,  544.65682283,  553.52252416,\n",
       "         562.38822549,  571.25392682,  580.11962815,  588.98532947,\n",
       "         597.8510308 ,  606.71673213,  615.58243346,  624.44813479,\n",
       "         633.31383612,  642.17953745,  651.04523878,  659.91094011,\n",
       "         668.77664144,  677.64234276,  686.50804409,  695.37374542,\n",
       "         704.23944675,  713.10514808,  721.97084941,  730.83655074,\n",
       "         739.70225207,  748.5679534 ,  757.43365473,  766.29935606,\n",
       "         775.16505738,  784.03075871,  792.89646004,  801.76216137,\n",
       "         810.6278627 ,  819.49356403,  828.35926536,  837.22496669,\n",
       "         846.09066802,  854.95636935,  863.82207067,  872.687772  ,\n",
       "         881.55347333,  890.41917466,  899.28487599,  908.15057732,\n",
       "         917.01627865,  925.88197998,  934.74768131,  943.61338264,\n",
       "         952.47908397,  961.34478529,  970.21048662,  979.07618795,\n",
       "         987.94188928,  996.80759061, 1005.67329194, 1014.53899327,\n",
       "        1023.4046946 , 1032.27039593, 1041.13609726, 1050.00179858,\n",
       "        1058.86749991, 1067.73320124, 1076.59890257, 1085.4646039 ,\n",
       "        1094.33030523]),\n",
       " <BarContainer object of 100 artists>)"
      ]
     },
     "execution_count": 20,
     "metadata": {},
     "output_type": "execute_result"
    },
    {
     "data": {
      "image/png": "[encoded data removed]",
      "text/plain": [
       "<Figure size 432x288 with 1 Axes>"
      ]
     },
     "metadata": {
      "needs_background": "light"
     },
     "output_type": "display_data"
    }
   ],
   "source": [
    "plt.hist(df.groupby(['user_segment'])['revenue_amount'].mean(), bins = 100)"
   ]
  },
  {
   "cell_type": "code",
   "execution_count": 11,
   "metadata": {},
   "outputs": [
    {
     "data": {
      "text/plain": [
       "user_segment\n",
       "853431062533847667     2392.330098\n",
       "2376074197230840906     571.446013\n",
       "4626944681007198896     285.545686\n",
       "Name: revenue_amount, dtype: float64"
      ]
     },
     "execution_count": 11,
     "metadata": {},
     "output_type": "execute_result"
    }
   ],
   "source": [
    "df.groupby(['user_segment'])['revenue_amount'].std()\n",
    "# также сегменты сильно различаются по стандартному отклонению"
   ]
  },
  {
   "cell_type": "code",
   "execution_count": 12,
   "metadata": {},
   "outputs": [
    {
     "data": {
      "text/plain": [
       "region\n",
       "1706841507230707778    182.157253\n",
       "6371282152022805074    187.891898\n",
       "9173615405044165275    189.498536\n",
       "8666105090637809898    192.322772\n",
       "8443241763018219192    192.534498\n",
       "                          ...    \n",
       "8867014108346120905    445.188098\n",
       "1611023233668261710    529.945146\n",
       "5780543780372929118    536.875280\n",
       "4848067518890897757    644.019141\n",
       "1481836092404435976    709.130762\n",
       "Name: revenue_amount, Length: 84, dtype: float64"
      ]
     },
     "execution_count": 12,
     "metadata": {},
     "output_type": "execute_result"
    }
   ],
   "source": [
    "df.groupby(['region'])['revenue_amount'].mean().sort_values()"
   ]
  },
  {
   "cell_type": "code",
   "execution_count": 18,
   "metadata": {},
   "outputs": [
    {
     "data": {
      "text/plain": [
       "region\n",
       "8666105090637809898     222.724661\n",
       "8443241763018219192     227.287387\n",
       "9173615405044165275     230.607352\n",
       "928013360687874809      239.776537\n",
       "6371282152022805074     256.364711\n",
       "                          ...     \n",
       "1611023233668261710    1069.926166\n",
       "2751451541457411742    1241.044595\n",
       "5780543780372929118    1324.789564\n",
       "4848067518890897757    1407.455008\n",
       "1481836092404435976    1819.635279\n",
       "Name: revenue_amount, Length: 84, dtype: float64"
      ]
     },
     "execution_count": 18,
     "metadata": {},
     "output_type": "execute_result"
    }
   ],
   "source": [
    "df.groupby(['region'])['revenue_amount'].std().sort_values()"
   ]
  },
  {
   "cell_type": "code",
   "execution_count": 19,
   "metadata": {},
   "outputs": [
    {
     "data": {
      "text/plain": [
       "(array([1., 4., 1., 0., 2., 3., 1., 2., 3., 3., 3., 5., 0., 3., 2., 4., 0.,\n",
       "        4., 1., 4., 2., 2., 3., 1., 1., 1., 4., 1., 1., 3., 2., 0., 1., 1.,\n",
       "        1., 2., 0., 0., 0., 3., 1., 1., 0., 0., 0., 1., 1., 0., 0., 1., 0.,\n",
       "        0., 0., 0., 0., 0., 0., 0., 0., 0., 0., 0., 0., 0., 0., 1., 0., 1.,\n",
       "        0., 0., 0., 0., 0., 0., 0., 0., 0., 0., 0., 0., 0., 0., 0., 0., 0.,\n",
       "        0., 0., 1., 0., 0., 0., 0., 0., 0., 0., 0., 0., 0., 0., 1.]),\n",
       " array([182.15725289, 187.42698798, 192.69672307, 197.96645816,\n",
       "        203.23619326, 208.50592835, 213.77566344, 219.04539853,\n",
       "        224.31513362, 229.58486872, 234.85460381, 240.1243389 ,\n",
       "        245.39407399, 250.66380908, 255.93354418, 261.20327927,\n",
       "        266.47301436, 271.74274945, 277.01248454, 282.28221964,\n",
       "        287.55195473, 292.82168982, 298.09142491, 303.36116   ,\n",
       "        308.6308951 , 313.90063019, 319.17036528, 324.44010037,\n",
       "        329.70983546, 334.97957056, 340.24930565, 345.51904074,\n",
       "        350.78877583, 356.05851092, 361.32824602, 366.59798111,\n",
       "        371.8677162 , 377.13745129, 382.40718638, 387.67692148,\n",
       "        392.94665657, 398.21639166, 403.48612675, 408.75586184,\n",
       "        414.02559694, 419.29533203, 424.56506712, 429.83480221,\n",
       "        435.1045373 , 440.3742724 , 445.64400749, 450.91374258,\n",
       "        456.18347767, 461.45321276, 466.72294786, 471.99268295,\n",
       "        477.26241804, 482.53215313, 487.80188822, 493.07162332,\n",
       "        498.34135841, 503.6110935 , 508.88082859, 514.15056368,\n",
       "        519.42029878, 524.69003387, 529.95976896, 535.22950405,\n",
       "        540.49923914, 545.76897424, 551.03870933, 556.30844442,\n",
       "        561.57817951, 566.8479146 , 572.1176497 , 577.38738479,\n",
       "        582.65711988, 587.92685497, 593.19659006, 598.46632516,\n",
       "        603.73606025, 609.00579534, 614.27553043, 619.54526552,\n",
       "        624.81500062, 630.08473571, 635.3544708 , 640.62420589,\n",
       "        645.89394098, 651.16367608, 656.43341117, 661.70314626,\n",
       "        666.97288135, 672.24261644, 677.51235154, 682.78208663,\n",
       "        688.05182172, 693.32155681, 698.5912919 , 703.861027  ,\n",
       "        709.13076209]),\n",
       " <BarContainer object of 100 artists>)"
      ]
     },
     "execution_count": 19,
     "metadata": {},
     "output_type": "execute_result"
    },
    {
     "data": {
      "image/png": "[encoded data removed]",
      "text/plain": [
       "<Figure size 432x288 with 1 Axes>"
      ]
     },
     "metadata": {
      "needs_background": "light"
     },
     "output_type": "display_data"
    }
   ],
   "source": [
    "# в основном средняя прибыль по региону от 200 до 400, при этом есть несколько регионов, где среднее около 500-700\n",
    "plt.hist(df.groupby(['region'])['revenue_amount'].mean(), bins = 100)"
   ]
  },
  {
   "cell_type": "code",
   "execution_count": 14,
   "metadata": {},
   "outputs": [
    {
     "data": {
      "text/plain": [
       "category\n",
       "4394253463123676325     136.595029\n",
       "3619272498251215842     142.088606\n",
       "5387097547938806535     149.053532\n",
       "7247164925237372155     155.169288\n",
       "6847326422676498281     167.567493\n",
       "2965866302161963961     196.501761\n",
       "3429514168013826643     200.418644\n",
       "4658595883120885993     215.218327\n",
       "6864443610550051939     233.014721\n",
       "1472231361867825698     258.353200\n",
       "282115902545472456      260.778575\n",
       "320230973495659885      286.013254\n",
       "1560592244484430230     313.285665\n",
       "5736208844128861898     321.823084\n",
       "174490086998335078      325.149759\n",
       "57514010642945023       347.826167\n",
       "7204754148424990691     352.174948\n",
       "4409084324312788296     379.733922\n",
       "3358911609809004109     403.792946\n",
       "6549025562984299367     410.800302\n",
       "5983323600580891431     433.565037\n",
       "91460430793700892       441.861699\n",
       "5284347926600386297     455.255782\n",
       "3187769798308634693     467.654020\n",
       "1793067034829450750     497.431001\n",
       "6742557862815872936     503.182713\n",
       "264558924403680107      509.373364\n",
       "4546178272531746227     510.431362\n",
       "5858189596811644833     527.746677\n",
       "7948270325129383019     792.677807\n",
       "2923341857645916506     806.675364\n",
       "2343719193625129042     943.989905\n",
       "7164285449278522823    1955.979431\n",
       "Name: revenue_amount, dtype: float64"
      ]
     },
     "execution_count": 14,
     "metadata": {},
     "output_type": "execute_result"
    }
   ],
   "source": [
    "df.groupby(['category'])['revenue_amount'].mean().sort_values()"
   ]
  },
  {
   "cell_type": "code",
   "execution_count": 15,
   "metadata": {},
   "outputs": [
    {
     "data": {
      "text/plain": [
       "category\n",
       "3619272498251215842     172.984799\n",
       "5387097547938806535     196.446707\n",
       "4658595883120885993     279.414560\n",
       "3429514168013826643     281.092885\n",
       "7247164925237372155     285.421869\n",
       "4394253463123676325     300.843418\n",
       "6847326422676498281     311.475321\n",
       "2965866302161963961     350.682200\n",
       "282115902545472456      354.734991\n",
       "320230973495659885      414.997017\n",
       "1560592244484430230     464.354426\n",
       "6864443610550051939     471.848055\n",
       "7204754148424990691     511.821260\n",
       "5284347926600386297     534.420842\n",
       "5983323600580891431     535.078480\n",
       "1472231361867825698     594.984151\n",
       "57514010642945023       605.864274\n",
       "5736208844128861898     625.686617\n",
       "91460430793700892       651.938097\n",
       "5858189596811644833     699.154653\n",
       "4546178272531746227     717.762308\n",
       "264558924403680107      747.222091\n",
       "174490086998335078      764.813512\n",
       "6742557862815872936     778.842570\n",
       "3187769798308634693     790.312625\n",
       "3358911609809004109     791.225418\n",
       "4409084324312788296     889.850240\n",
       "1793067034829450750    1073.795206\n",
       "7948270325129383019    1352.172272\n",
       "2923341857645916506    1613.975843\n",
       "6549025562984299367    1899.114650\n",
       "2343719193625129042    2471.247604\n",
       "7164285449278522823    3164.815179\n",
       "Name: revenue_amount, dtype: float64"
      ]
     },
     "execution_count": 15,
     "metadata": {},
     "output_type": "execute_result"
    }
   ],
   "source": [
    "df.groupby(['category'])['revenue_amount'].std().sort_values()"
   ]
  },
  {
   "cell_type": "code",
   "execution_count": 17,
   "metadata": {},
   "outputs": [
    {
     "data": {
      "text/plain": [
       "(array([3., 2., 0., 2., 1., 1., 2., 0., 1., 1., 2., 2., 0., 1., 1., 1., 2.,\n",
       "        1., 1., 1., 3., 1., 0., 0., 0., 0., 0., 0., 0., 0., 0., 0., 0., 0.,\n",
       "        0., 0., 2., 0., 0., 0., 0., 0., 0., 0., 1., 0., 0., 0., 0., 0., 0.,\n",
       "        0., 0., 0., 0., 0., 0., 0., 0., 0., 0., 0., 0., 0., 0., 0., 0., 0.,\n",
       "        0., 0., 0., 0., 0., 0., 0., 0., 0., 0., 0., 0., 0., 0., 0., 0., 0.,\n",
       "        0., 0., 0., 0., 0., 0., 0., 0., 0., 0., 0., 0., 0., 0., 1.]),\n",
       " array([ 136.59502924,  154.78887326,  172.98271728,  191.1765613 ,\n",
       "         209.37040532,  227.56424934,  245.75809336,  263.95193738,\n",
       "         282.1457814 ,  300.33962542,  318.53346944,  336.72731346,\n",
       "         354.92115748,  373.1150015 ,  391.30884552,  409.50268954,\n",
       "         427.69653356,  445.89037758,  464.0842216 ,  482.27806562,\n",
       "         500.47190964,  518.66575366,  536.85959768,  555.0534417 ,\n",
       "         573.24728572,  591.44112974,  609.63497376,  627.82881778,\n",
       "         646.0226618 ,  664.21650582,  682.41034984,  700.60419386,\n",
       "         718.79803788,  736.9918819 ,  755.18572592,  773.37956994,\n",
       "         791.57341396,  809.76725798,  827.961102  ,  846.15494602,\n",
       "         864.34879004,  882.54263406,  900.73647808,  918.9303221 ,\n",
       "         937.12416612,  955.31801014,  973.51185416,  991.70569818,\n",
       "        1009.8995422 , 1028.09338622, 1046.28723024, 1064.48107426,\n",
       "        1082.67491828, 1100.8687623 , 1119.06260632, 1137.25645034,\n",
       "        1155.45029436, 1173.64413838, 1191.8379824 , 1210.03182642,\n",
       "        1228.22567044, 1246.41951446, 1264.61335848, 1282.8072025 ,\n",
       "        1301.00104652, 1319.19489054, 1337.38873456, 1355.58257858,\n",
       "        1373.7764226 , 1391.97026662, 1410.16411064, 1428.35795466,\n",
       "        1446.55179868, 1464.7456427 , 1482.93948672, 1501.13333074,\n",
       "        1519.32717476, 1537.52101878, 1555.7148628 , 1573.90870682,\n",
       "        1592.10255084, 1610.29639486, 1628.49023888, 1646.6840829 ,\n",
       "        1664.87792692, 1683.07177094, 1701.26561496, 1719.45945898,\n",
       "        1737.653303  , 1755.84714702, 1774.04099104, 1792.23483506,\n",
       "        1810.42867908, 1828.6225231 , 1846.81636712, 1865.01021114,\n",
       "        1883.20405516, 1901.39789918, 1919.5917432 , 1937.78558722,\n",
       "        1955.97943124]),\n",
       " <BarContainer object of 100 artists>)"
      ]
     },
     "execution_count": 17,
     "metadata": {},
     "output_type": "execute_result"
    },
    {
     "data": {
      "image/png": "[encoded data removed]",
      "text/plain": [
       "<Figure size 432x288 with 1 Axes>"
      ]
     },
     "metadata": {
      "needs_background": "light"
     },
     "output_type": "display_data"
    }
   ],
   "source": [
    "# среднее по категориям лежит между 200 и 500, при этом есть один сегмент, с очень высокой выручкой -- около 1950\n",
    "plt.hist(df.groupby(['category'])['revenue_amount'].mean(), bins = 100)"
   ]
  },
  {
   "cell_type": "markdown",
   "metadata": {},
   "source": [
    "##### 2. Предскажите минимально детектируемый эффект (MDE):"
   ]
  },
  {
   "cell_type": "markdown",
   "metadata": {},
   "source": [
    "Для рассчетов 9-ти комбинаций (Для размеров тестовых групп 10,25,50% и длительностей 30, 60, 90 дней) с помощью кода ниже , заеняя параметры delta, share и result effect) получены MDE:\n",
    "\n",
    "Для тестовой группы 10% и длительности теста 30 дней: 9%  \n",
    "Для тестовой группы 10% и длительности теста 60 дней: 8.5%  \n",
    "Для тестовой группы 10% и длительности теста 90 дней: 9.5%  \n",
    " \n",
    "Для тестовой группы 25% и длительности теста 30 дней: 6.1%  \n",
    "Для тестовой группы 25% и длительности теста 60 дней: 5.5%  \n",
    "Для тестовой группы 25% и длительности теста 90 дней: 5.4%  \n",
    "\n",
    "Для тестовой группы 50% и длительности теста 30 дней: 4.7%  \n",
    "Для тестовой группы 50% и длительности теста 60 дней: 4.5%  \n",
    "Для тестовой группы 50% и длительности теста 90 дней: 4.5%  "
   ]
  },
  {
   "cell_type": "code",
   "execution_count": 189,
   "metadata": {},
   "outputs": [],
   "source": [
    "def choose_date(df, start_date, delta, share): \n",
    "    tmp = df[(df.event_date>=start_date)&(df.event_date<=start_date+datetime.timedelta(days=delta))]\n",
    "    tmp=tmp.groupby(['user_id']).sum().reset_index()\n",
    "    x = tmp[(tmp.user_id)%int(1/share)==1].reset_index()\n",
    "    return x\n"
   ]
  },
  {
   "cell_type": "code",
   "execution_count": 258,
   "metadata": {},
   "outputs": [
    {
     "name": "stdout",
     "output_type": "stream",
     "text": [
      "1.029721162117055\n"
     ]
    }
   ],
   "source": [
    "# Эксперимент будем проводить на всей выборке.\n",
    "import datetime\n",
    "\n",
    "x1 = choose_date(df, datetime.datetime(2019, 7, 19, 0, 0), 30 ,0.5) #получаем необходимую подвыборку\n",
    "\n",
    "from statsmodels.stats.power import tt_ind_solve_power\n",
    " \n",
    "mean = x1.revenue_amount.mean()\n",
    "std = x1.revenue_amount.std()\n",
    " \n",
    "alpha = 0.05\n",
    "power = 0.8\n",
    "result_effect = 0.046 # целевой размер относительного отклоенения исходной метрики\n",
    "effect_size = (mean /std) * result_effect\n",
    " \n",
    "    \n",
    "sample_vol = tt_ind_solve_power(effect_size=effect_size, alpha=alpha, power=power, nobs1=None, ratio=1, alternative = 'two-sided')    \n",
    "print(sample_vol/x1.shape[0])# получаем множитель того, во сколько раз необходимо изменить размер выборки\n"
   ]
  },
  {
   "cell_type": "markdown",
   "metadata": {},
   "source": [
    "##### 3. CUPED"
   ]
  },
  {
   "cell_type": "markdown",
   "metadata": {},
   "source": [
    "1. Рассчитайте CUPED метрику на основе данных за периода в 30 дней перед предполагаемым периодом сбора основной выборки и опишите как изменился MDE для выборок 50/50%, собранных за 30 дней (2 бала)."
   ]
  },
  {
   "cell_type": "markdown",
   "metadata": {},
   "source": [
    "Для рассчета метрики возьмем данные за первые 30 дней из датасета, добавим новый столбец pre_revenue к нашему df"
   ]
  },
  {
   "cell_type": "code",
   "execution_count": 259,
   "metadata": {},
   "outputs": [
    {
     "data": {
      "text/plain": [
       "Timestamp('2019-06-18 00:00:00')"
      ]
     },
     "execution_count": 259,
     "metadata": {},
     "output_type": "execute_result"
    }
   ],
   "source": [
    "df['event_date'].min()"
   ]
  },
  {
   "cell_type": "code",
   "execution_count": 260,
   "metadata": {},
   "outputs": [],
   "source": [
    "pre_df = df[df['event_date'] <= '2019-07-18']\n",
    "pre_df_avg = pre_df.groupby(['user_id'])['revenue_amount'].mean()"
   ]
  },
  {
   "cell_type": "code",
   "execution_count": 353,
   "metadata": {},
   "outputs": [],
   "source": [
    "new_df = df[(df['event_date'] > '2019-07-18') & (df['event_date'] <= '2019-08-18')]\n",
    "new_df_avg = new_df.groupby(['user_id'])['revenue_amount'].mean()"
   ]
  },
  {
   "cell_type": "code",
   "execution_count": 354,
   "metadata": {},
   "outputs": [],
   "source": [
    "n_df = pd.merge(new_df_avg,pre_df_avg,on='user_id', how='left') "
   ]
  },
  {
   "cell_type": "code",
   "execution_count": 355,
   "metadata": {},
   "outputs": [],
   "source": [
    "n_df['revenue_amount_y'] = n_df['revenue_amount_y'].fillna(0)"
   ]
  },
  {
   "cell_type": "code",
   "execution_count": 356,
   "metadata": {},
   "outputs": [
    {
     "data": {
      "text/html": [
       "<div>\n",
       "<style scoped>\n",
       "    .dataframe tbody tr th:only-of-type {\n",
       "        vertical-align: middle;\n",
       "    }\n",
       "\n",
       "    .dataframe tbody tr th {\n",
       "        vertical-align: top;\n",
       "    }\n",
       "\n",
       "    .dataframe thead th {\n",
       "        text-align: right;\n",
       "    }\n",
       "</style>\n",
       "<table border=\"1\" class=\"dataframe\">\n",
       "  <thead>\n",
       "    <tr style=\"text-align: right;\">\n",
       "      <th></th>\n",
       "      <th>revenue_amount_x</th>\n",
       "      <th>revenue_amount_y</th>\n",
       "    </tr>\n",
       "    <tr>\n",
       "      <th>user_id</th>\n",
       "      <th></th>\n",
       "      <th></th>\n",
       "    </tr>\n",
       "  </thead>\n",
       "  <tbody>\n",
       "    <tr>\n",
       "      <th>702221222224</th>\n",
       "      <td>356.000000</td>\n",
       "      <td>0.0</td>\n",
       "    </tr>\n",
       "    <tr>\n",
       "      <th>1912219714366</th>\n",
       "      <td>100.333333</td>\n",
       "      <td>70.0</td>\n",
       "    </tr>\n",
       "    <tr>\n",
       "      <th>23708868092799</th>\n",
       "      <td>48.000000</td>\n",
       "      <td>55.0</td>\n",
       "    </tr>\n",
       "    <tr>\n",
       "      <th>39239811475386</th>\n",
       "      <td>195.000000</td>\n",
       "      <td>293.0</td>\n",
       "    </tr>\n",
       "    <tr>\n",
       "      <th>45305541518475</th>\n",
       "      <td>125.000000</td>\n",
       "      <td>0.0</td>\n",
       "    </tr>\n",
       "  </tbody>\n",
       "</table>\n",
       "</div>"
      ],
      "text/plain": [
       "                revenue_amount_x  revenue_amount_y\n",
       "user_id                                           \n",
       "702221222224          356.000000               0.0\n",
       "1912219714366         100.333333              70.0\n",
       "23708868092799         48.000000              55.0\n",
       "39239811475386        195.000000             293.0\n",
       "45305541518475        125.000000               0.0"
      ]
     },
     "execution_count": 356,
     "metadata": {},
     "output_type": "execute_result"
    }
   ],
   "source": [
    "# Получили df, в котором хранится информация для каждого пользователя по его среднему чеку за заказаз \n",
    "# в период с 18 июня 2019 года по 18 июля 2019 года\n",
    "n_df.head()"
   ]
  },
  {
   "cell_type": "code",
   "execution_count": 357,
   "metadata": {},
   "outputs": [],
   "source": [
    "# начнем рассчет  CUPID метрики\n",
    "# Считаем среднее предданных:\n",
    "n_df['pre_revenue_tg_average']=n_df.revenue_amount_y.mean() "
   ]
  },
  {
   "cell_type": "code",
   "execution_count": 358,
   "metadata": {},
   "outputs": [
    {
     "data": {
      "text/plain": [
       "0.7502038946462856"
      ]
     },
     "execution_count": 358,
     "metadata": {},
     "output_type": "execute_result"
    }
   ],
   "source": [
    "teta = np.cov(n_df.revenue_amount_x,n_df.revenue_amount_y, ddof=1)[1,0]/np.var(n_df.revenue_amount_y, ddof=1)\n",
    "teta"
   ]
  },
  {
   "cell_type": "code",
   "execution_count": 359,
   "metadata": {},
   "outputs": [],
   "source": [
    "corr = np.corrcoef(n_df.revenue_amount_x,n_df.revenue_amount_y)[1,0] "
   ]
  },
  {
   "cell_type": "code",
   "execution_count": 360,
   "metadata": {},
   "outputs": [],
   "source": [
    "# Считаем CUPID метрику\n",
    "n_df['cuped_revenue'] = n_df.revenue_amount_x - teta * (n_df.revenue_amount_y - n_df.pre_revenue_tg_average)"
   ]
  },
  {
   "cell_type": "code",
   "execution_count": 361,
   "metadata": {},
   "outputs": [
    {
     "data": {
      "text/html": [
       "<div>\n",
       "<style scoped>\n",
       "    .dataframe tbody tr th:only-of-type {\n",
       "        vertical-align: middle;\n",
       "    }\n",
       "\n",
       "    .dataframe tbody tr th {\n",
       "        vertical-align: top;\n",
       "    }\n",
       "\n",
       "    .dataframe thead th {\n",
       "        text-align: right;\n",
       "    }\n",
       "</style>\n",
       "<table border=\"1\" class=\"dataframe\">\n",
       "  <thead>\n",
       "    <tr style=\"text-align: right;\">\n",
       "      <th></th>\n",
       "      <th>revenue_amount_x</th>\n",
       "      <th>revenue_amount_y</th>\n",
       "      <th>pre_revenue_tg_average</th>\n",
       "      <th>cuped_revenue</th>\n",
       "    </tr>\n",
       "    <tr>\n",
       "      <th>user_id</th>\n",
       "      <th></th>\n",
       "      <th></th>\n",
       "      <th></th>\n",
       "      <th></th>\n",
       "    </tr>\n",
       "  </thead>\n",
       "  <tbody>\n",
       "    <tr>\n",
       "      <th>702221222224</th>\n",
       "      <td>356.000000</td>\n",
       "      <td>0.0</td>\n",
       "      <td>173.118706</td>\n",
       "      <td>485.874327</td>\n",
       "    </tr>\n",
       "    <tr>\n",
       "      <th>1912219714366</th>\n",
       "      <td>100.333333</td>\n",
       "      <td>70.0</td>\n",
       "      <td>173.118706</td>\n",
       "      <td>177.693388</td>\n",
       "    </tr>\n",
       "    <tr>\n",
       "      <th>23708868092799</th>\n",
       "      <td>48.000000</td>\n",
       "      <td>55.0</td>\n",
       "      <td>173.118706</td>\n",
       "      <td>136.613113</td>\n",
       "    </tr>\n",
       "    <tr>\n",
       "      <th>39239811475386</th>\n",
       "      <td>195.000000</td>\n",
       "      <td>293.0</td>\n",
       "      <td>173.118706</td>\n",
       "      <td>105.064586</td>\n",
       "    </tr>\n",
       "    <tr>\n",
       "      <th>45305541518475</th>\n",
       "      <td>125.000000</td>\n",
       "      <td>0.0</td>\n",
       "      <td>173.118706</td>\n",
       "      <td>254.874327</td>\n",
       "    </tr>\n",
       "  </tbody>\n",
       "</table>\n",
       "</div>"
      ],
      "text/plain": [
       "                revenue_amount_x  revenue_amount_y  pre_revenue_tg_average  \\\n",
       "user_id                                                                      \n",
       "702221222224          356.000000               0.0              173.118706   \n",
       "1912219714366         100.333333              70.0              173.118706   \n",
       "23708868092799         48.000000              55.0              173.118706   \n",
       "39239811475386        195.000000             293.0              173.118706   \n",
       "45305541518475        125.000000               0.0              173.118706   \n",
       "\n",
       "                cuped_revenue  \n",
       "user_id                        \n",
       "702221222224       485.874327  \n",
       "1912219714366      177.693388  \n",
       "23708868092799     136.613113  \n",
       "39239811475386     105.064586  \n",
       "45305541518475     254.874327  "
      ]
     },
     "execution_count": 361,
     "metadata": {},
     "output_type": "execute_result"
    }
   ],
   "source": [
    "n_df.head()"
   ]
  },
  {
   "cell_type": "code",
   "execution_count": 362,
   "metadata": {},
   "outputs": [],
   "source": [
    "# MDE\n",
    "def choose_date(df, start_date, delta, share): \n",
    "    #tmp = df[(df.event_date>=start_date)&(df.event_date<=start_date+datetime.timedelta(days=delta))]\n",
    "    tmp=n_df.groupby(['user_id']).sum().reset_index()\n",
    "    x = tmp[(tmp.user_id)%int(1/share)==1].reset_index()\n",
    "    return x"
   ]
  },
  {
   "cell_type": "code",
   "execution_count": 365,
   "metadata": {},
   "outputs": [
    {
     "name": "stdout",
     "output_type": "stream",
     "text": [
      "0.994803756567487\n"
     ]
    }
   ],
   "source": [
    "# Эксперимент будем проводить на всей выборке.\n",
    "# Удалось уменьшить MDE с 4.5% до 0.9%!\n",
    "import datetime\n",
    "\n",
    "x1 = choose_date(n_df, datetime.datetime(2019, 7, 19, 0, 0), 30 ,0.5) #получаем необходимую подвыборку\n",
    "\n",
    "from statsmodels.stats.power import tt_ind_solve_power\n",
    " \n",
    "mean = x1.cuped_revenue.mean()\n",
    "std = x1.cuped_revenue.std()\n",
    " \n",
    "alpha = 0.05\n",
    "power = 0.8\n",
    "result_effect = 0.009 # целевой размер относительного отклоенения исходной метрики\n",
    "effect_size = (mean /std) * result_effect\n",
    " \n",
    "    \n",
    "sample_vol = tt_ind_solve_power(effect_size=effect_size, alpha=alpha, power=power, nobs1=None, ratio=1, alternative = 'two-sided')    \n",
    "print(sample_vol/x1.shape[0])# получаем множитель того, во сколько раз необходимо изменить размер выборки\n"
   ]
  },
  {
   "cell_type": "markdown",
   "metadata": {},
   "source": [
    "2. Проверьте насколько данный подход подвержен сезональности. Как меняется MDE, если применять данный подход в разные периоды."
   ]
  },
  {
   "cell_type": "markdown",
   "metadata": {},
   "source": [
    "Рассмотрим MDE для CUPED метрики, если будем брать период за сентябрь и за новбрь. Основной дата теста будет в первом случае от сентбяря до конца года, во втором - от ноября до уонца года"
   ]
  },
  {
   "cell_type": "markdown",
   "metadata": {},
   "source": [
    "Сентябрь"
   ]
  },
  {
   "cell_type": "code",
   "execution_count": 368,
   "metadata": {},
   "outputs": [],
   "source": [
    "# Проделаем те же действия, что мы делали для первого месяца\n",
    "pre_sep_df = df[(df['event_date'] >= '2019-09-01') & (df['event_date'] <= '2019-09-30')]\n",
    "pre_sep_df_avg = pre_sep_df.groupby(['user_id'])['revenue_amount'].mean()"
   ]
  },
  {
   "cell_type": "code",
   "execution_count": 369,
   "metadata": {},
   "outputs": [],
   "source": [
    "new_sep_df = df[(df['event_date'] > '2019-09-30') & (df['event_date'] <= '2019-10-31')]\n",
    "new_sep_df_avg = new_sep_df.groupby(['user_id'])['revenue_amount'].mean()"
   ]
  },
  {
   "cell_type": "code",
   "execution_count": 370,
   "metadata": {},
   "outputs": [],
   "source": [
    "n_sep_df = pd.merge(new_sep_df_avg,pre_sep_df_avg,on='user_id', how='left')\n",
    "n_sep_df['pre_revenue_tg_average']=n_sep_df.revenue_amount_y.mean() "
   ]
  },
  {
   "cell_type": "code",
   "execution_count": 371,
   "metadata": {},
   "outputs": [],
   "source": [
    "n_sep_df['revenue_amount_y'] = n_sep_df['revenue_amount_y'].fillna(0)"
   ]
  },
  {
   "cell_type": "code",
   "execution_count": 372,
   "metadata": {},
   "outputs": [],
   "source": [
    "teta = np.cov(n_sep_df.revenue_amount_x,n_sep_df.revenue_amount_y, ddof=1)[1,0]/np.var(n_sep_df.revenue_amount_y, ddof=1)\n",
    "corr = np.corrcoef(n_sep_df.revenue_amount_x,n_sep_df.revenue_amount_y)[1,0] \n",
    "n_sep_df['cuped_revenue'] = n_sep_df.revenue_amount_x - teta * (n_sep_df.revenue_amount_y - n_sep_df.pre_revenue_tg_average)"
   ]
  },
  {
   "cell_type": "code",
   "execution_count": 373,
   "metadata": {},
   "outputs": [],
   "source": [
    "# MDE при данных для предпирода за сентябрь\n",
    "def choose_date_sep(df, start_date, delta, share): \n",
    "    #tmp = df[(df.event_date>=start_date)&(df.event_date<=start_date+datetime.timedelta(days=delta))]\n",
    "    tmp=n_sep_df.groupby(['user_id']).sum().reset_index()\n",
    "    x = tmp[(tmp.user_id)%int(1/share)==1].reset_index()\n",
    "    return x"
   ]
  },
  {
   "cell_type": "code",
   "execution_count": 385,
   "metadata": {},
   "outputs": [
    {
     "name": "stdout",
     "output_type": "stream",
     "text": [
      "1.0137549029806718\n"
     ]
    }
   ],
   "source": [
    "\n",
    "import datetime\n",
    "\n",
    "x1 = choose_date_sep(n_sep_df, datetime.datetime(2019, 10, 1, 0, 0), 30 ,0.5) #получаем необходимую подвыборку\n",
    "\n",
    "from statsmodels.stats.power import tt_ind_solve_power\n",
    " \n",
    "mean = x1.cuped_revenue.mean()\n",
    "std = x1.cuped_revenue.std()\n",
    " \n",
    "alpha = 0.05\n",
    "power = 0.8\n",
    "result_effect = 0.0057 # целевой размер относительного отклоенения исходной метрики\n",
    "effect_size = (mean /std) * result_effect\n",
    " \n",
    "    \n",
    "sample_vol = tt_ind_solve_power(effect_size=effect_size, alpha=alpha, power=power, nobs1=None, ratio=1, alternative = 'two-sided')    \n",
    "print(sample_vol/x1.shape[0])# получаем множитель того, во сколько раз необходимо изменить размер выборки\n",
    "\n",
    "# MDE умениьшился с 0.9% до 0.57%"
   ]
  },
  {
   "cell_type": "markdown",
   "metadata": {},
   "source": [
    "Ноябрь"
   ]
  },
  {
   "cell_type": "code",
   "execution_count": 386,
   "metadata": {},
   "outputs": [],
   "source": [
    "# Проделаем те же действия, что мы делали для первого месяца\n",
    "pre_nov_df = df[(df['event_date'] >= '2019-10-01') & (df['event_date'] <= '2019-10-31')]\n",
    "pre_nov_df_avg = pre_nov_df.groupby(['user_id'])['revenue_amount'].mean()"
   ]
  },
  {
   "cell_type": "code",
   "execution_count": 387,
   "metadata": {},
   "outputs": [],
   "source": [
    "new_nov_df = df[(df['event_date'] > '2019-11-30') & (df['event_date'] <= '2019-12-31')]\n",
    "new_nov_df_avg = new_nov_df.groupby(['user_id'])['revenue_amount'].mean()"
   ]
  },
  {
   "cell_type": "code",
   "execution_count": 389,
   "metadata": {},
   "outputs": [],
   "source": [
    "n_nov_df = pd.merge(new_nov_df_avg,pre_nov_df_avg,on='user_id', how='left')\n",
    "n_nov_df['pre_revenue_tg_average']=n_nov_df.revenue_amount_y.mean() \n",
    "n_nov_df['revenue_amount_y'] = n_nov_df['revenue_amount_y'].fillna(0)"
   ]
  },
  {
   "cell_type": "code",
   "execution_count": 390,
   "metadata": {},
   "outputs": [],
   "source": [
    "teta = np.cov(n_nov_df.revenue_amount_x,n_nov_df.revenue_amount_y, ddof=1)[1,0]/np.var(n_nov_df.revenue_amount_y, ddof=1)\n",
    "corr = np.corrcoef(n_nov_df.revenue_amount_x,n_nov_df.revenue_amount_y)[1,0] \n",
    "n_nov_df['cuped_revenue'] = n_nov_df.revenue_amount_x - teta * (n_nov_df.revenue_amount_y - n_nov_df.pre_revenue_tg_average)\n"
   ]
  },
  {
   "cell_type": "code",
   "execution_count": 391,
   "metadata": {},
   "outputs": [],
   "source": [
    "# MDE при данных для предпирода за сентябрь\n",
    "def choose_date_nov(df, start_date, delta, share): \n",
    "    #tmp = df[(df.event_date>=start_date)&(df.event_date<=start_date+datetime.timedelta(days=delta))]\n",
    "    tmp=n_nov_df.groupby(['user_id']).sum().reset_index()\n",
    "    x = tmp[(tmp.user_id)%int(1/share)==1].reset_index()\n",
    "    return x"
   ]
  },
  {
   "cell_type": "code",
   "execution_count": 409,
   "metadata": {},
   "outputs": [
    {
     "name": "stdout",
     "output_type": "stream",
     "text": [
      "0.9866054287467663\n"
     ]
    }
   ],
   "source": [
    "import datetime\n",
    "\n",
    "x1 = choose_date_nov(n_nov_df, datetime.datetime(2019, 10, 1, 0, 0), 30 ,0.5) #получаем необходимую подвыборку\n",
    "\n",
    "from statsmodels.stats.power import tt_ind_solve_power\n",
    " \n",
    "mean = x1.cuped_revenue.mean()\n",
    "std = x1.cuped_revenue.std()\n",
    " \n",
    "alpha = 0.05\n",
    "power = 0.8\n",
    "result_effect = 0.011 # целевой размер относительного отклоенения исходной метрики\n",
    "effect_size = (mean /std) * result_effect\n",
    " \n",
    "    \n",
    "sample_vol = tt_ind_solve_power(effect_size=effect_size, alpha=alpha, power=power, nobs1=None, ratio=1, alternative = 'two-sided')    \n",
    "print(sample_vol/x1.shape[0])# получаем множитель того, во сколько раз необходимо изменить размер выборки\n",
    "\n",
    "#Используя данные за ноябрь, получается засечь изменение в 1.1%"
   ]
  },
  {
   "cell_type": "markdown",
   "metadata": {},
   "source": [
    "3. Оптимизируйте подход варьируя количество дней до теста, которые вы будете для расчёта CUPED метрики. Какое максимальное снижение MDE вы смогли достичь.  "
   ]
  },
  {
   "cell_type": "code",
   "execution_count": 1,
   "metadata": {},
   "outputs": [],
   "source": [
    "# Рассмотрим MDE за разные периоды\n",
    "def choose_date(df, start_date, delta, share): \n",
    "    #tmp = df[(df.event_date>=start_date)&(df.event_date<=start_date+datetime.timedelta(days=delta))]\n",
    "    tmp=n_df.groupby(['user_id']).sum().reset_index()\n",
    "    x = tmp[(tmp.user_id)%int(1/share)==1].reset_index()\n",
    "    return x"
   ]
  },
  {
   "cell_type": "code",
   "execution_count": null,
   "metadata": {},
   "outputs": [],
   "source": []
  },
  {
   "cell_type": "markdown",
   "metadata": {},
   "source": [
    "###### 4. Стратификация "
   ]
  },
  {
   "cell_type": "markdown",
   "metadata": {},
   "source": [
    "Регион"
   ]
  },
  {
   "cell_type": "code",
   "execution_count": 333,
   "metadata": {},
   "outputs": [],
   "source": [
    "strata_p = df.groupby(['region']).count()/df.count()[0]\n",
    "data_test=df.join(strata_p, on='region', rsuffix='_probality')"
   ]
  },
  {
   "cell_type": "code",
   "execution_count": 336,
   "metadata": {},
   "outputs": [
    {
     "data": {
      "text/plain": [
       "400.9046571927835"
      ]
     },
     "execution_count": 336,
     "metadata": {},
     "output_type": "execute_result"
    }
   ],
   "source": [
    "(data_test.groupby(['region']).mean().revenue_amount*data_test.groupby(['region']).mean().revenue_amount_probality).sum()"
   ]
  },
  {
   "cell_type": "code",
   "execution_count": 339,
   "metadata": {},
   "outputs": [
    {
     "data": {
      "text/plain": [
       "0.32297647035389626"
      ]
     },
     "execution_count": 339,
     "metadata": {},
     "output_type": "execute_result"
    }
   ],
   "source": [
    "((data_test.groupby(['region']).var().revenue_amount*data_test.groupby(['region']).mean().revenue_amount_probality).sum()\n",
    " /df.count()[0])**0.5"
   ]
  },
  {
   "cell_type": "markdown",
   "metadata": {},
   "source": [
    "category"
   ]
  },
  {
   "cell_type": "code",
   "execution_count": 342,
   "metadata": {},
   "outputs": [],
   "source": [
    "strata_p = df.groupby(['category']).count()/df.count()[0]\n",
    "data_test=df.join(strata_p, on='category', rsuffix='_probality')"
   ]
  },
  {
   "cell_type": "code",
   "execution_count": null,
   "metadata": {},
   "outputs": [],
   "source": [
    "(data_test.groupby(['category']).mean().revenue_amount*data_test.groupby(['category']).mean().revenue_amount_probality).sum()\n"
   ]
  },
  {
   "cell_type": "code",
   "execution_count": 344,
   "metadata": {},
   "outputs": [
    {
     "data": {
      "text/plain": [
       "0.32066184266339565"
      ]
     },
     "execution_count": 344,
     "metadata": {},
     "output_type": "execute_result"
    }
   ],
   "source": [
    "((data_test.groupby(['category']).var().revenue_amount*data_test.groupby(['category']).mean().revenue_amount_probality).sum()\n",
    " /df.count()[0])**0.5"
   ]
  },
  {
   "cell_type": "markdown",
   "metadata": {},
   "source": [
    "User ID"
   ]
  },
  {
   "cell_type": "code",
   "execution_count": 345,
   "metadata": {},
   "outputs": [],
   "source": [
    "strata_p = df.groupby(['user_segment']).count()/df.count()[0]\n",
    "data_test=df.join(strata_p, on='user_segment', rsuffix='_probality')"
   ]
  },
  {
   "cell_type": "code",
   "execution_count": 346,
   "metadata": {},
   "outputs": [
    {
     "data": {
      "text/plain": [
       "400.9046571988347"
      ]
     },
     "execution_count": 346,
     "metadata": {},
     "output_type": "execute_result"
    }
   ],
   "source": [
    "(data_test.groupby(['user_segment']).mean().revenue_amount*data_test.groupby(['user_segment']).mean().revenue_amount_probality).sum()\n"
   ]
  },
  {
   "cell_type": "code",
   "execution_count": 347,
   "metadata": {},
   "outputs": [
    {
     "data": {
      "text/plain": [
       "0.3140204036179203"
      ]
     },
     "execution_count": 347,
     "metadata": {},
     "output_type": "execute_result"
    }
   ],
   "source": [
    "((data_test.groupby(['user_segment']).var().revenue_amount*data_test.groupby(['user_segment']).mean().revenue_amount_probality).sum()\n",
    " /df.count()[0])**0.5"
   ]
  },
  {
   "cell_type": "code",
   "execution_count": null,
   "metadata": {},
   "outputs": [],
   "source": []
  }
 ],
 "metadata": {
  "kernelspec": {
   "display_name": "Python 3",
   "language": "python",
   "name": "python3"
  },
  "language_info": {
   "codemirror_mode": {
    "name": "ipython",
    "version": 3
   },
   "file_extension": ".py",
   "mimetype": "text/x-python",
   "name": "python",
   "nbconvert_exporter": "python",
   "pygments_lexer": "ipython3",
   "version": "3.8.5"
  }
 },
 "nbformat": 4,
 "nbformat_minor": 4
}
